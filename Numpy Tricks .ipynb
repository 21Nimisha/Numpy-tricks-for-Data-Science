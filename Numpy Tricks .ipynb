{
 "cells": [
  {
   "cell_type": "markdown",
   "id": "25934267",
   "metadata": {},
   "source": [
    "# np.sort\n",
    "- return a sorted copy of array"
   ]
  },
  {
   "cell_type": "code",
   "execution_count": 1,
   "id": "169337bd",
   "metadata": {},
   "outputs": [],
   "source": [
    "import numpy as np"
   ]
  },
  {
   "cell_type": "code",
   "execution_count": 2,
   "id": "1300ce9d",
   "metadata": {},
   "outputs": [
    {
     "data": {
      "text/plain": [
       "array([13, 17, 72, 83, 48, 96,  2, 16,  4, 86, 29, 40, 18, 98, 87])"
      ]
     },
     "execution_count": 2,
     "metadata": {},
     "output_type": "execute_result"
    }
   ],
   "source": [
    "a = np.random.randint(1,100,15)\n",
    "a"
   ]
  },
  {
   "cell_type": "code",
   "execution_count": 5,
   "id": "8816d792",
   "metadata": {},
   "outputs": [
    {
     "data": {
      "text/plain": [
       "array([[16, 46, 33, 39],\n",
       "       [81, 88, 91, 54],\n",
       "       [92, 39, 75, 90],\n",
       "       [15, 31, 54, 80],\n",
       "       [66, 57, 77, 64],\n",
       "       [44, 50, 91, 43]])"
      ]
     },
     "execution_count": 5,
     "metadata": {},
     "output_type": "execute_result"
    }
   ],
   "source": [
    "b = np.random.randint(1,100,24).reshape(6,4)\n",
    "b"
   ]
  },
  {
   "cell_type": "markdown",
   "id": "dd9bb23d",
   "metadata": {},
   "source": [
    "https://numpy.org/doc/stable/reference/generated/numpy.sort.html"
   ]
  },
  {
   "cell_type": "markdown",
   "id": "0687befe",
   "metadata": {},
   "source": [
    "formula - numpy.sort(a, axis=-1, kind=None, order=None)[source]\n"
   ]
  },
  {
   "cell_type": "code",
   "execution_count": 7,
   "id": "8f1b0b6c",
   "metadata": {},
   "outputs": [
    {
     "data": {
      "text/plain": [
       "array([ 2,  4, 13, 16, 17, 18, 29, 40, 48, 72, 83, 86, 87, 96, 98])"
      ]
     },
     "execution_count": 7,
     "metadata": {},
     "output_type": "execute_result"
    }
   ],
   "source": [
    "np.sort(a)"
   ]
  },
  {
   "cell_type": "markdown",
   "id": "74532db1",
   "metadata": {},
   "source": [
    "### # row vise sorting in 3d array"
   ]
  },
  {
   "cell_type": "code",
   "execution_count": 8,
   "id": "de85a4d7",
   "metadata": {},
   "outputs": [
    {
     "data": {
      "text/plain": [
       "array([[16, 33, 39, 46],\n",
       "       [54, 81, 88, 91],\n",
       "       [39, 75, 90, 92],\n",
       "       [15, 31, 54, 80],\n",
       "       [57, 64, 66, 77],\n",
       "       [43, 44, 50, 91]])"
      ]
     },
     "execution_count": 8,
     "metadata": {},
     "output_type": "execute_result"
    }
   ],
   "source": [
    "np.sort(b) "
   ]
  },
  {
   "cell_type": "markdown",
   "id": "20472c4c",
   "metadata": {},
   "source": [
    "### # column vise sorting - (axis = 0)"
   ]
  },
  {
   "cell_type": "code",
   "execution_count": 9,
   "id": "4c5100ee",
   "metadata": {},
   "outputs": [
    {
     "data": {
      "text/plain": [
       "array([[15, 31, 33, 39],\n",
       "       [16, 39, 54, 43],\n",
       "       [44, 46, 75, 54],\n",
       "       [66, 50, 77, 64],\n",
       "       [81, 57, 91, 80],\n",
       "       [92, 88, 91, 90]])"
      ]
     },
     "execution_count": 9,
     "metadata": {},
     "output_type": "execute_result"
    }
   ],
   "source": [
    "np.sort(b, axis = 0) "
   ]
  },
  {
   "cell_type": "markdown",
   "id": "1ce43945",
   "metadata": {},
   "source": [
    "####  reverse sorting"
   ]
  },
  {
   "cell_type": "code",
   "execution_count": 11,
   "id": "7f9abe93",
   "metadata": {},
   "outputs": [
    {
     "data": {
      "text/plain": [
       "array([98, 96, 87, 86, 83, 72, 48, 40, 29, 18, 17, 16, 13,  4,  2])"
      ]
     },
     "execution_count": 11,
     "metadata": {},
     "output_type": "execute_result"
    }
   ],
   "source": [
    "np.sort(a)[::-1]"
   ]
  },
  {
   "cell_type": "markdown",
   "id": "6210db13",
   "metadata": {},
   "source": [
    "# np.append\n",
    "- The numpy.appened() appends values along the mentioned axis at the end of the array"
   ]
  },
  {
   "cell_type": "markdown",
   "id": "1725d978",
   "metadata": {},
   "source": [
    "https://numpy.org/doc/stable/reference/generated/numpy.append.html"
   ]
  },
  {
   "cell_type": "code",
   "execution_count": 13,
   "id": "c8f77de5",
   "metadata": {},
   "outputs": [
    {
     "data": {
      "text/plain": [
       "array([ 13,  17,  72,  83,  48,  96,   2,  16,   4,  86,  29,  40,  18,\n",
       "        98,  87, 200])"
      ]
     },
     "execution_count": 13,
     "metadata": {},
     "output_type": "execute_result"
    }
   ],
   "source": [
    "np.append(a,200)"
   ]
  },
  {
   "cell_type": "code",
   "execution_count": 15,
   "id": "2d2a0ebe",
   "metadata": {},
   "outputs": [
    {
     "data": {
      "text/plain": [
       "array([[16., 46., 33., 39.,  1.],\n",
       "       [81., 88., 91., 54.,  1.],\n",
       "       [92., 39., 75., 90.,  1.],\n",
       "       [15., 31., 54., 80.,  1.],\n",
       "       [66., 57., 77., 64.,  1.],\n",
       "       [44., 50., 91., 43.,  1.]])"
      ]
     },
     "execution_count": 15,
     "metadata": {},
     "output_type": "execute_result"
    }
   ],
   "source": [
    "np.append(b, np.ones((b.shape[0],1)), axis = 1)"
   ]
  },
  {
   "cell_type": "markdown",
   "id": "c314e196",
   "metadata": {},
   "source": [
    "# np.concatenate\n",
    "- it concat a sequence of arrays alon an existing axis. it generally use with tabular data (2d array)"
   ]
  },
  {
   "cell_type": "markdown",
   "id": "e7746063",
   "metadata": {},
   "source": [
    "https://numpy.org/doc/stable/reference/generated/numpy.concatenate.html"
   ]
  },
  {
   "cell_type": "markdown",
   "id": "853244d9",
   "metadata": {},
   "source": [
    "#### numpy.concatenate((a1, a2, ...), axis=0, out=None, dtype=None, casting=\"same_kind\")"
   ]
  },
  {
   "cell_type": "code",
   "execution_count": 16,
   "id": "bf2e181e",
   "metadata": {},
   "outputs": [],
   "source": [
    "c = np.arange(6).reshape(2,3)\n",
    "d = np.arange(6,12).reshape(2,3)"
   ]
  },
  {
   "cell_type": "code",
   "execution_count": 18,
   "id": "38348311",
   "metadata": {},
   "outputs": [
    {
     "data": {
      "text/plain": [
       "array([[ 0,  1,  2],\n",
       "       [ 3,  4,  5],\n",
       "       [ 6,  7,  8],\n",
       "       [ 9, 10, 11]])"
      ]
     },
     "execution_count": 18,
     "metadata": {},
     "output_type": "execute_result"
    }
   ],
   "source": [
    "np.concatenate((c,d))"
   ]
  },
  {
   "cell_type": "code",
   "execution_count": 20,
   "id": "849a0553",
   "metadata": {},
   "outputs": [
    {
     "data": {
      "text/plain": [
       "array([[ 0,  1,  2,  6,  7,  8],\n",
       "       [ 3,  4,  5,  9, 10, 11]])"
      ]
     },
     "execution_count": 20,
     "metadata": {},
     "output_type": "execute_result"
    }
   ],
   "source": [
    "np.concatenate((c,d), axis = 1)"
   ]
  },
  {
   "cell_type": "markdown",
   "id": "9943f731",
   "metadata": {},
   "source": [
    "# np.unique\n",
    "- we can get the unique values from an array given as parameter in np.unique() method."
   ]
  },
  {
   "cell_type": "markdown",
   "id": "c2e40e9f",
   "metadata": {},
   "source": [
    "https://numpy.org/doc/stable/reference/generated/numpy.unique.html"
   ]
  },
  {
   "cell_type": "markdown",
   "id": "bf1e4daa",
   "metadata": {},
   "source": [
    "#### numpy.unique(ar, return_index=False, return_inverse=False, return_counts=False, axis=None, *, equal_nan=True)[source]\n"
   ]
  },
  {
   "cell_type": "code",
   "execution_count": 21,
   "id": "9c5338c8",
   "metadata": {},
   "outputs": [],
   "source": [
    "a = np.array([1,1,12,2,3,4,12,3,5,3,4,1])"
   ]
  },
  {
   "cell_type": "code",
   "execution_count": 22,
   "id": "3a08a26f",
   "metadata": {},
   "outputs": [
    {
     "data": {
      "text/plain": [
       "array([ 1,  2,  3,  4,  5, 12])"
      ]
     },
     "execution_count": 22,
     "metadata": {},
     "output_type": "execute_result"
    }
   ],
   "source": [
    "np.unique(a)"
   ]
  },
  {
   "cell_type": "markdown",
   "id": "c39d1256",
   "metadata": {},
   "source": [
    "# np.expand_dims\n",
    "\n",
    "- we can get the expanded dimensional of array"
   ]
  },
  {
   "cell_type": "markdown",
   "id": "23d73293",
   "metadata": {},
   "source": [
    "https://numpy.org/doc/stable/reference/generated/numpy.expand_dims.html"
   ]
  },
  {
   "cell_type": "markdown",
   "id": "3c38afa2",
   "metadata": {},
   "source": [
    "### numpy.expand_dims(a, axis)"
   ]
  },
  {
   "cell_type": "code",
   "execution_count": 23,
   "id": "27262c0c",
   "metadata": {},
   "outputs": [
    {
     "data": {
      "text/plain": [
       "array([ 1,  1, 12,  2,  3,  4, 12,  3,  5,  3,  4,  1])"
      ]
     },
     "execution_count": 23,
     "metadata": {},
     "output_type": "execute_result"
    }
   ],
   "source": [
    "a"
   ]
  },
  {
   "cell_type": "code",
   "execution_count": 25,
   "id": "e59a1d1b",
   "metadata": {},
   "outputs": [
    {
     "data": {
      "text/plain": [
       "(12,)"
      ]
     },
     "execution_count": 25,
     "metadata": {},
     "output_type": "execute_result"
    }
   ],
   "source": [
    "a.shape"
   ]
  },
  {
   "cell_type": "code",
   "execution_count": 24,
   "id": "2972c807",
   "metadata": {},
   "outputs": [
    {
     "data": {
      "text/plain": [
       "array([[ 1,  1, 12,  2,  3,  4, 12,  3,  5,  3,  4,  1]])"
      ]
     },
     "execution_count": 24,
     "metadata": {},
     "output_type": "execute_result"
    }
   ],
   "source": [
    "np.expand_dims(a,axis = 0)"
   ]
  },
  {
   "cell_type": "code",
   "execution_count": 26,
   "id": "0b65b1db",
   "metadata": {},
   "outputs": [
    {
     "data": {
      "text/plain": [
       "(1, 12)"
      ]
     },
     "execution_count": 26,
     "metadata": {},
     "output_type": "execute_result"
    }
   ],
   "source": [
    "np.expand_dims(a,axis = 0).shape"
   ]
  },
  {
   "cell_type": "markdown",
   "id": "2c0ce8bb",
   "metadata": {},
   "source": [
    "# converting row vector into column vector"
   ]
  },
  {
   "cell_type": "code",
   "execution_count": 27,
   "id": "d6058eeb",
   "metadata": {},
   "outputs": [
    {
     "data": {
      "text/plain": [
       "array([[ 1],\n",
       "       [ 1],\n",
       "       [12],\n",
       "       [ 2],\n",
       "       [ 3],\n",
       "       [ 4],\n",
       "       [12],\n",
       "       [ 3],\n",
       "       [ 5],\n",
       "       [ 3],\n",
       "       [ 4],\n",
       "       [ 1]])"
      ]
     },
     "execution_count": 27,
     "metadata": {},
     "output_type": "execute_result"
    }
   ],
   "source": [
    "np.expand_dims(a,axis = 1)"
   ]
  },
  {
   "cell_type": "markdown",
   "id": "b3f7a7a8",
   "metadata": {},
   "source": [
    "# np.where\n",
    "- It return the indices of elements in an input array where the given condition is satisfied."
   ]
  },
  {
   "cell_type": "markdown",
   "id": "a9c75022",
   "metadata": {},
   "source": [
    "https://numpy.org/doc/stable/reference/generated/numpy.where.html"
   ]
  },
  {
   "cell_type": "markdown",
   "id": "723f1b05",
   "metadata": {},
   "source": [
    "### numpy.where(condition, [x, y, ]/)"
   ]
  },
  {
   "cell_type": "code",
   "execution_count": 28,
   "id": "6cfeb660",
   "metadata": {},
   "outputs": [
    {
     "data": {
      "text/plain": [
       "array([ 1,  1, 12,  2,  3,  4, 12,  3,  5,  3,  4,  1])"
      ]
     },
     "execution_count": 28,
     "metadata": {},
     "output_type": "execute_result"
    }
   ],
   "source": [
    "a"
   ]
  },
  {
   "cell_type": "code",
   "execution_count": 29,
   "id": "2001be44",
   "metadata": {},
   "outputs": [],
   "source": [
    "# tell me the index position of whose value is greater than 4"
   ]
  },
  {
   "cell_type": "code",
   "execution_count": 30,
   "id": "a0ee5394",
   "metadata": {},
   "outputs": [
    {
     "data": {
      "text/plain": [
       "(array([2, 6, 8]),)"
      ]
     },
     "execution_count": 30,
     "metadata": {},
     "output_type": "execute_result"
    }
   ],
   "source": [
    "np.where(a>4)"
   ]
  },
  {
   "cell_type": "code",
   "execution_count": 31,
   "id": "41a9e1d2",
   "metadata": {},
   "outputs": [],
   "source": [
    "# replace value greater than 4 and replace with 0"
   ]
  },
  {
   "cell_type": "code",
   "execution_count": 32,
   "id": "41322a9b",
   "metadata": {},
   "outputs": [
    {
     "data": {
      "text/plain": [
       "array([1, 1, 0, 2, 3, 4, 0, 3, 0, 3, 4, 1])"
      ]
     },
     "execution_count": 32,
     "metadata": {},
     "output_type": "execute_result"
    }
   ],
   "source": [
    "np.where(a>4 , 0,a) # code (np.where(condition, true,false))"
   ]
  },
  {
   "cell_type": "code",
   "execution_count": 33,
   "id": "36b0ec32",
   "metadata": {},
   "outputs": [],
   "source": [
    "# replace even with 0."
   ]
  },
  {
   "cell_type": "code",
   "execution_count": 34,
   "id": "5c53f9e7",
   "metadata": {},
   "outputs": [
    {
     "data": {
      "text/plain": [
       "array([1, 1, 0, 0, 3, 0, 0, 3, 5, 3, 0, 1])"
      ]
     },
     "execution_count": 34,
     "metadata": {},
     "output_type": "execute_result"
    }
   ],
   "source": [
    "np.where(a%2 == 0, 0,a)"
   ]
  },
  {
   "cell_type": "markdown",
   "id": "b57371f0",
   "metadata": {},
   "source": [
    "# np.argmax\n",
    "- return indices of the max elemnet of the array in a particular axis."
   ]
  },
  {
   "cell_type": "markdown",
   "id": "92f6a82a",
   "metadata": {},
   "source": [
    "https://numpy.org/doc/stable/reference/generated/numpy.argmax.html"
   ]
  },
  {
   "cell_type": "markdown",
   "id": "5351e40c",
   "metadata": {},
   "source": [
    "### numpy.argmax(a, axis=None, out=None, *, keepdims=<no value>)"
   ]
  },
  {
   "cell_type": "code",
   "execution_count": 36,
   "id": "487fca21",
   "metadata": {},
   "outputs": [
    {
     "data": {
      "text/plain": [
       "array([ 1,  1, 12,  2,  3,  4, 12,  3,  5,  3,  4,  1])"
      ]
     },
     "execution_count": 36,
     "metadata": {},
     "output_type": "execute_result"
    }
   ],
   "source": [
    "a"
   ]
  },
  {
   "cell_type": "code",
   "execution_count": 38,
   "id": "db55ad4b",
   "metadata": {},
   "outputs": [
    {
     "data": {
      "text/plain": [
       "2"
      ]
     },
     "execution_count": 38,
     "metadata": {},
     "output_type": "execute_result"
    }
   ],
   "source": [
    "np.argmax(a) # it will give maximum value index position"
   ]
  },
  {
   "cell_type": "code",
   "execution_count": 40,
   "id": "7493feb6",
   "metadata": {},
   "outputs": [
    {
     "data": {
      "text/plain": [
       "array([[16, 46, 33, 39],\n",
       "       [81, 88, 91, 54],\n",
       "       [92, 39, 75, 90],\n",
       "       [15, 31, 54, 80],\n",
       "       [66, 57, 77, 64],\n",
       "       [44, 50, 91, 43]])"
      ]
     },
     "execution_count": 40,
     "metadata": {},
     "output_type": "execute_result"
    }
   ],
   "source": [
    "b"
   ]
  },
  {
   "cell_type": "code",
   "execution_count": 41,
   "id": "10efafdf",
   "metadata": {},
   "outputs": [
    {
     "data": {
      "text/plain": [
       "array([2, 1, 1, 2])"
      ]
     },
     "execution_count": 41,
     "metadata": {},
     "output_type": "execute_result"
    }
   ],
   "source": [
    "np.argmax(b, axis = 0) # axis 0 is column"
   ]
  },
  {
   "cell_type": "markdown",
   "id": "2b4ce3c8",
   "metadata": {},
   "source": [
    "# np.argmin\n",
    "- give minimum value index position"
   ]
  },
  {
   "cell_type": "code",
   "execution_count": 42,
   "id": "d5a04811",
   "metadata": {},
   "outputs": [
    {
     "data": {
      "text/plain": [
       "0"
      ]
     },
     "execution_count": 42,
     "metadata": {},
     "output_type": "execute_result"
    }
   ],
   "source": [
    "np.argmin(a)"
   ]
  },
  {
   "cell_type": "code",
   "execution_count": 44,
   "id": "9f7a5a74",
   "metadata": {},
   "outputs": [
    {
     "data": {
      "text/plain": [
       "array([3, 3, 0, 0])"
      ]
     },
     "execution_count": 44,
     "metadata": {},
     "output_type": "execute_result"
    }
   ],
   "source": [
    "np.argmin(b, axis = 0)"
   ]
  },
  {
   "cell_type": "markdown",
   "id": "150efaa6",
   "metadata": {},
   "source": [
    "# np.cumsum\n",
    "- used when we want to compute the cumulative sum of array elements over a given axis."
   ]
  },
  {
   "cell_type": "markdown",
   "id": "95ada720",
   "metadata": {},
   "source": [
    "https://numpy.org/doc/stable/reference/generated/numpy.cumsum.html"
   ]
  },
  {
   "cell_type": "markdown",
   "id": "f97222fb",
   "metadata": {},
   "source": [
    "#### numpy.cumsum(a, axis=None, dtype=None, out=None)[source]\n"
   ]
  },
  {
   "cell_type": "code",
   "execution_count": 46,
   "id": "286df7f8",
   "metadata": {},
   "outputs": [
    {
     "data": {
      "text/plain": [
       "array([ 0,  1,  2,  3,  4,  5,  6,  7,  8,  9, 10, 11, 12, 13, 14, 15, 16,\n",
       "       17, 18, 19, 20, 21, 22, 23])"
      ]
     },
     "execution_count": 46,
     "metadata": {},
     "output_type": "execute_result"
    }
   ],
   "source": [
    "a = np.arange(24)\n",
    "a"
   ]
  },
  {
   "cell_type": "code",
   "execution_count": 47,
   "id": "4a976fc9",
   "metadata": {},
   "outputs": [
    {
     "data": {
      "text/plain": [
       "array([  0,   1,   3,   6,  10,  15,  21,  28,  36,  45,  55,  66,  78,\n",
       "        91, 105, 120, 136, 153, 171, 190, 210, 231, 253, 276])"
      ]
     },
     "execution_count": 47,
     "metadata": {},
     "output_type": "execute_result"
    }
   ],
   "source": [
    "np.cumsum(a)"
   ]
  },
  {
   "cell_type": "code",
   "execution_count": 48,
   "id": "6d84c33a",
   "metadata": {},
   "outputs": [
    {
     "data": {
      "text/plain": [
       "array([[16, 46, 33, 39],\n",
       "       [81, 88, 91, 54],\n",
       "       [92, 39, 75, 90],\n",
       "       [15, 31, 54, 80],\n",
       "       [66, 57, 77, 64],\n",
       "       [44, 50, 91, 43]])"
      ]
     },
     "execution_count": 48,
     "metadata": {},
     "output_type": "execute_result"
    }
   ],
   "source": [
    "b"
   ]
  },
  {
   "cell_type": "code",
   "execution_count": 49,
   "id": "1c88042b",
   "metadata": {},
   "outputs": [
    {
     "data": {
      "text/plain": [
       "array([[ 16,  46,  33,  39],\n",
       "       [ 97, 134, 124,  93],\n",
       "       [189, 173, 199, 183],\n",
       "       [204, 204, 253, 263],\n",
       "       [270, 261, 330, 327],\n",
       "       [314, 311, 421, 370]])"
      ]
     },
     "execution_count": 49,
     "metadata": {},
     "output_type": "execute_result"
    }
   ],
   "source": [
    "np.cumsum(b, axis = 0) in numpy array \"0\" on axis means column "
   ]
  },
  {
   "cell_type": "code",
   "execution_count": 54,
   "id": "80b25ad0",
   "metadata": {},
   "outputs": [
    {
     "data": {
      "text/plain": [
       "array([[         16,          46,          33,          39],\n",
       "       [       1296,        4048,        3003,        2106],\n",
       "       [     119232,      157872,      225225,      189540],\n",
       "       [    1788480,     4894032,    12162150,    15163200],\n",
       "       [  118039680,   278959824,   936485550,   970444800],\n",
       "       [ 5193745920, 13947991200, 85220185050, 41729126400]])"
      ]
     },
     "execution_count": 54,
     "metadata": {},
     "output_type": "execute_result"
    }
   ],
   "source": [
    "np.cumprod(b, axis = 0)"
   ]
  },
  {
   "cell_type": "markdown",
   "id": "c95d837c",
   "metadata": {},
   "source": [
    "# np.percentile\n",
    "- It used to compute the nth percentile of the given data(array elements) along the specified axix."
   ]
  },
  {
   "cell_type": "markdown",
   "id": "4fb9d7c2",
   "metadata": {},
   "source": [
    "https://numpy.org/doc/stable/reference/generated/numpy.percentile.html"
   ]
  },
  {
   "cell_type": "markdown",
   "id": "a73eee9c",
   "metadata": {},
   "source": [
    "### numpy.percentile(a, q, axis=None, out=None, overwrite_input=False, method='linear', keepdims=False, *, interpolation=None)\n"
   ]
  },
  {
   "cell_type": "code",
   "execution_count": 55,
   "id": "fd8bc2e6",
   "metadata": {},
   "outputs": [
    {
     "data": {
      "text/plain": [
       "array([ 0,  1,  2,  3,  4,  5,  6,  7,  8,  9, 10, 11, 12, 13, 14, 15, 16,\n",
       "       17, 18, 19, 20, 21, 22, 23])"
      ]
     },
     "execution_count": 55,
     "metadata": {},
     "output_type": "execute_result"
    }
   ],
   "source": [
    "a"
   ]
  },
  {
   "cell_type": "code",
   "execution_count": 57,
   "id": "1f5a37b4",
   "metadata": {},
   "outputs": [
    {
     "data": {
      "text/plain": [
       "23.0"
      ]
     },
     "execution_count": 57,
     "metadata": {},
     "output_type": "execute_result"
    }
   ],
   "source": [
    "np.percentile(a,100)"
   ]
  },
  {
   "cell_type": "code",
   "execution_count": 59,
   "id": "a3ffac73",
   "metadata": {},
   "outputs": [
    {
     "data": {
      "text/plain": [
       "11.5"
      ]
     },
     "execution_count": 59,
     "metadata": {},
     "output_type": "execute_result"
    }
   ],
   "source": [
    "np.percentile(a,50)"
   ]
  },
  {
   "cell_type": "code",
   "execution_count": 60,
   "id": "846a64d9",
   "metadata": {},
   "outputs": [
    {
     "data": {
      "text/plain": [
       "17.25"
      ]
     },
     "execution_count": 60,
     "metadata": {},
     "output_type": "execute_result"
    }
   ],
   "source": [
    "np.percentile(a,75)"
   ]
  },
  {
   "cell_type": "code",
   "execution_count": 62,
   "id": "618fb013",
   "metadata": {},
   "outputs": [
    {
     "data": {
      "text/plain": [
       "11.5"
      ]
     },
     "execution_count": 62,
     "metadata": {},
     "output_type": "execute_result"
    }
   ],
   "source": [
    "np.median(a)"
   ]
  },
  {
   "cell_type": "markdown",
   "id": "b9a75d89",
   "metadata": {},
   "source": [
    "# np.histogram\n",
    "- Numpy has a built in numpy.histogram() function which represents the frequency of data in the graphical form."
   ]
  },
  {
   "cell_type": "markdown",
   "id": "e6c34d28",
   "metadata": {},
   "source": [
    "https://numpy.org/doc/stable/reference/generated/numpy.histogram.html"
   ]
  },
  {
   "cell_type": "markdown",
   "id": "9e3f2241",
   "metadata": {},
   "source": [
    "### numpy.histogram(a, bins=10, range=None, density=None, weights=None)"
   ]
  },
  {
   "cell_type": "code",
   "execution_count": 87,
   "id": "3ce165e2",
   "metadata": {},
   "outputs": [
    {
     "data": {
      "text/plain": [
       "(array([10, 10, 10, 10, 10, 10, 10, 10, 10, 10]),\n",
       " array([  0,  10,  20,  30,  40,  50,  60,  70,  80,  90, 100]))"
      ]
     },
     "execution_count": 87,
     "metadata": {},
     "output_type": "execute_result"
    }
   ],
   "source": [
    "np.histogram(a,bins = [0, 10, 20,30,40,50,60,70,80,90,100])"
   ]
  },
  {
   "cell_type": "code",
   "execution_count": 85,
   "id": "177b11d7",
   "metadata": {},
   "outputs": [],
   "source": [
    "a = np.arange(0,100)"
   ]
  },
  {
   "cell_type": "code",
   "execution_count": 86,
   "id": "a73689c0",
   "metadata": {},
   "outputs": [
    {
     "data": {
      "text/plain": [
       "array([ 0,  1,  2,  3,  4,  5,  6,  7,  8,  9, 10, 11, 12, 13, 14, 15, 16,\n",
       "       17, 18, 19, 20, 21, 22, 23, 24, 25, 26, 27, 28, 29, 30, 31, 32, 33,\n",
       "       34, 35, 36, 37, 38, 39, 40, 41, 42, 43, 44, 45, 46, 47, 48, 49, 50,\n",
       "       51, 52, 53, 54, 55, 56, 57, 58, 59, 60, 61, 62, 63, 64, 65, 66, 67,\n",
       "       68, 69, 70, 71, 72, 73, 74, 75, 76, 77, 78, 79, 80, 81, 82, 83, 84,\n",
       "       85, 86, 87, 88, 89, 90, 91, 92, 93, 94, 95, 96, 97, 98, 99])"
      ]
     },
     "execution_count": 86,
     "metadata": {},
     "output_type": "execute_result"
    }
   ],
   "source": [
    "a"
   ]
  },
  {
   "cell_type": "code",
   "execution_count": 89,
   "id": "a5de08f1",
   "metadata": {},
   "outputs": [
    {
     "data": {
      "text/plain": [
       "(array([50, 50]), array([  0,  50, 100]))"
      ]
     },
     "execution_count": 89,
     "metadata": {},
     "output_type": "execute_result"
    }
   ],
   "source": [
    "np.histogram(a, bins = [0,50,100])"
   ]
  },
  {
   "cell_type": "markdown",
   "id": "c93386b2",
   "metadata": {},
   "source": [
    "# np.corrcoef\n",
    "- Return person Product - moment correlation coefficients."
   ]
  },
  {
   "cell_type": "markdown",
   "id": "661e2bf3",
   "metadata": {},
   "source": [
    "https://numpy.org/doc/stable/reference/generated/numpy.corrcoef.html"
   ]
  },
  {
   "cell_type": "markdown",
   "id": "0f2384fc",
   "metadata": {},
   "source": [
    "### numpy.corrcoef(x, y=None, rowvar=True, bias=<no value>, ddof=<no value>, *, dtype=None)"
   ]
  },
  {
   "cell_type": "code",
   "execution_count": 90,
   "id": "97bac3c9",
   "metadata": {},
   "outputs": [],
   "source": [
    "salary = np.array([200000,100000,50000,100000,150000,190000,350000,535000])"
   ]
  },
  {
   "cell_type": "code",
   "execution_count": 91,
   "id": "793f3eda",
   "metadata": {},
   "outputs": [],
   "source": [
    "experience = np.array([2,1,1,1,2,2,3,4])"
   ]
  },
  {
   "cell_type": "code",
   "execution_count": 92,
   "id": "e87d20bf",
   "metadata": {},
   "outputs": [
    {
     "data": {
      "text/plain": [
       "array([[1.        , 0.97738699],\n",
       "       [0.97738699, 1.        ]])"
      ]
     },
     "execution_count": 92,
     "metadata": {},
     "output_type": "execute_result"
    }
   ],
   "source": [
    "np.corrcoef(salary,experience)"
   ]
  },
  {
   "cell_type": "markdown",
   "id": "37498a60",
   "metadata": {},
   "source": [
    "# np.isin\n",
    "- with the help of numpy.isin() method, we can see that one array having values are checked in a different array having\n",
    "different elements with different size."
   ]
  },
  {
   "cell_type": "markdown",
   "id": "db25e16c",
   "metadata": {},
   "source": [
    "https://numpy.org/doc/stable/reference/generated/numpy.isin.html"
   ]
  },
  {
   "cell_type": "markdown",
   "id": "f60250cc",
   "metadata": {},
   "source": [
    "#### numpy.isin(element, test_elements, assume_unique=False, invert=False, *, kind=None)"
   ]
  },
  {
   "cell_type": "code",
   "execution_count": 93,
   "id": "49ad1551",
   "metadata": {},
   "outputs": [
    {
     "data": {
      "text/plain": [
       "array([False, False, False, False, False, False, False, False, False,\n",
       "       False,  True, False, False, False, False, False, False, False,\n",
       "       False, False,  True, False, False, False, False, False, False,\n",
       "       False, False, False,  True, False, False, False, False, False,\n",
       "       False, False, False, False,  True, False, False, False, False,\n",
       "       False, False, False, False, False,  True, False, False, False,\n",
       "       False, False, False, False, False, False,  True, False, False,\n",
       "       False, False, False, False, False, False, False,  True, False,\n",
       "       False, False, False, False, False, False, False, False,  True,\n",
       "       False, False, False, False, False, False, False, False, False,\n",
       "        True, False, False, False, False, False, False, False, False,\n",
       "       False])"
      ]
     },
     "execution_count": 93,
     "metadata": {},
     "output_type": "execute_result"
    }
   ],
   "source": [
    "items = [10,20,30,40,50,60,70,80,90,100]\n",
    "\n",
    "np.isin(a,items)"
   ]
  },
  {
   "cell_type": "code",
   "execution_count": 96,
   "id": "e5382088",
   "metadata": {},
   "outputs": [
    {
     "data": {
      "text/plain": [
       "array([10, 20, 30, 40, 50, 60, 70, 80, 90])"
      ]
     },
     "execution_count": 96,
     "metadata": {},
     "output_type": "execute_result"
    }
   ],
   "source": [
    "a[np.isin(a,items)]"
   ]
  },
  {
   "cell_type": "markdown",
   "id": "75a2c4d5",
   "metadata": {},
   "source": [
    "# np.flip\n",
    "\n",
    "- reverse the order of array elements along the specified axis, preserving the shape of array.\n"
   ]
  },
  {
   "cell_type": "markdown",
   "id": "826b65a5",
   "metadata": {},
   "source": [
    "https://numpy.org/doc/stable/reference/generated/numpy.flip.html"
   ]
  },
  {
   "cell_type": "markdown",
   "id": "5511fd60",
   "metadata": {},
   "source": [
    "### numpy.flip(m, axis=None)[source]\n",
    "- Reverse the order of elements in an array along the given axis.\n",
    "\n",
    "- The shape of the array is preserved, but the elements are reordered."
   ]
  },
  {
   "cell_type": "code",
   "execution_count": 97,
   "id": "da5c1c35",
   "metadata": {},
   "outputs": [
    {
     "data": {
      "text/plain": [
       "array([ 0,  1,  2,  3,  4,  5,  6,  7,  8,  9, 10, 11, 12, 13, 14, 15, 16,\n",
       "       17, 18, 19, 20, 21, 22, 23, 24, 25, 26, 27, 28, 29, 30, 31, 32, 33,\n",
       "       34, 35, 36, 37, 38, 39, 40, 41, 42, 43, 44, 45, 46, 47, 48, 49, 50,\n",
       "       51, 52, 53, 54, 55, 56, 57, 58, 59, 60, 61, 62, 63, 64, 65, 66, 67,\n",
       "       68, 69, 70, 71, 72, 73, 74, 75, 76, 77, 78, 79, 80, 81, 82, 83, 84,\n",
       "       85, 86, 87, 88, 89, 90, 91, 92, 93, 94, 95, 96, 97, 98, 99])"
      ]
     },
     "execution_count": 97,
     "metadata": {},
     "output_type": "execute_result"
    }
   ],
   "source": [
    "a"
   ]
  },
  {
   "cell_type": "code",
   "execution_count": 98,
   "id": "f6ad7051",
   "metadata": {},
   "outputs": [
    {
     "data": {
      "text/plain": [
       "array([99, 98, 97, 96, 95, 94, 93, 92, 91, 90, 89, 88, 87, 86, 85, 84, 83,\n",
       "       82, 81, 80, 79, 78, 77, 76, 75, 74, 73, 72, 71, 70, 69, 68, 67, 66,\n",
       "       65, 64, 63, 62, 61, 60, 59, 58, 57, 56, 55, 54, 53, 52, 51, 50, 49,\n",
       "       48, 47, 46, 45, 44, 43, 42, 41, 40, 39, 38, 37, 36, 35, 34, 33, 32,\n",
       "       31, 30, 29, 28, 27, 26, 25, 24, 23, 22, 21, 20, 19, 18, 17, 16, 15,\n",
       "       14, 13, 12, 11, 10,  9,  8,  7,  6,  5,  4,  3,  2,  1,  0])"
      ]
     },
     "execution_count": 98,
     "metadata": {},
     "output_type": "execute_result"
    }
   ],
   "source": [
    "np.flip(a)"
   ]
  },
  {
   "cell_type": "code",
   "execution_count": 99,
   "id": "593ceb71",
   "metadata": {},
   "outputs": [
    {
     "data": {
      "text/plain": [
       "array([[16, 46, 33, 39],\n",
       "       [81, 88, 91, 54],\n",
       "       [92, 39, 75, 90],\n",
       "       [15, 31, 54, 80],\n",
       "       [66, 57, 77, 64],\n",
       "       [44, 50, 91, 43]])"
      ]
     },
     "execution_count": 99,
     "metadata": {},
     "output_type": "execute_result"
    }
   ],
   "source": [
    "b"
   ]
  },
  {
   "cell_type": "code",
   "execution_count": 100,
   "id": "50f22c5f",
   "metadata": {},
   "outputs": [
    {
     "data": {
      "text/plain": [
       "array([[43, 91, 50, 44],\n",
       "       [64, 77, 57, 66],\n",
       "       [80, 54, 31, 15],\n",
       "       [90, 75, 39, 92],\n",
       "       [54, 91, 88, 81],\n",
       "       [39, 33, 46, 16]])"
      ]
     },
     "execution_count": 100,
     "metadata": {},
     "output_type": "execute_result"
    }
   ],
   "source": [
    "np.flip(b)"
   ]
  },
  {
   "cell_type": "code",
   "execution_count": 101,
   "id": "80589eb6",
   "metadata": {},
   "outputs": [
    {
     "data": {
      "text/plain": [
       "array([[44, 50, 91, 43],\n",
       "       [66, 57, 77, 64],\n",
       "       [15, 31, 54, 80],\n",
       "       [92, 39, 75, 90],\n",
       "       [81, 88, 91, 54],\n",
       "       [16, 46, 33, 39]])"
      ]
     },
     "execution_count": 101,
     "metadata": {},
     "output_type": "execute_result"
    }
   ],
   "source": [
    "np.flip(b, axis = 0)"
   ]
  },
  {
   "cell_type": "code",
   "execution_count": 102,
   "id": "b6356ca1",
   "metadata": {},
   "outputs": [
    {
     "data": {
      "text/plain": [
       "array([[39, 33, 46, 16],\n",
       "       [54, 91, 88, 81],\n",
       "       [90, 75, 39, 92],\n",
       "       [80, 54, 31, 15],\n",
       "       [64, 77, 57, 66],\n",
       "       [43, 91, 50, 44]])"
      ]
     },
     "execution_count": 102,
     "metadata": {},
     "output_type": "execute_result"
    }
   ],
   "source": [
    "np.flip(b,axis = 1)"
   ]
  },
  {
   "cell_type": "markdown",
   "id": "4e8bdd0d",
   "metadata": {},
   "source": [
    "# np.put (this function do permanent changes)\n",
    "\n",
    "- replaces specific elements of an array with given values of p_array, array indexed work on flattened array."
   ]
  },
  {
   "cell_type": "markdown",
   "id": "3b6f17fb",
   "metadata": {},
   "source": [
    "https://numpy.org/doc/stable/reference/generated/numpy.put.html"
   ]
  },
  {
   "cell_type": "markdown",
   "id": "1af05417",
   "metadata": {},
   "source": [
    "### numpy.put(a, ind, v, mode='raise')\n",
    "Replaces specified elements of an array with given values."
   ]
  },
  {
   "cell_type": "code",
   "execution_count": 104,
   "id": "ce012808",
   "metadata": {},
   "outputs": [
    {
     "data": {
      "text/plain": [
       "array([ 0,  1,  2,  3,  4,  5,  6,  7,  8,  9, 10, 11, 12, 13, 14, 15, 16,\n",
       "       17, 18, 19, 20, 21, 22, 23, 24, 25, 26, 27, 28, 29, 30, 31, 32, 33,\n",
       "       34, 35, 36, 37, 38, 39, 40, 41, 42, 43, 44, 45, 46, 47, 48, 49, 50,\n",
       "       51, 52, 53, 54, 55, 56, 57, 58, 59, 60, 61, 62, 63, 64, 65, 66, 67,\n",
       "       68, 69, 70, 71, 72, 73, 74, 75, 76, 77, 78, 79, 80, 81, 82, 83, 84,\n",
       "       85, 86, 87, 88, 89, 90, 91, 92, 93, 94, 95, 96, 97, 98, 99])"
      ]
     },
     "execution_count": 104,
     "metadata": {},
     "output_type": "execute_result"
    }
   ],
   "source": [
    "a"
   ]
  },
  {
   "cell_type": "code",
   "execution_count": 105,
   "id": "71519700",
   "metadata": {},
   "outputs": [],
   "source": [
    "np.put(a,[0,1],[110,500])"
   ]
  },
  {
   "cell_type": "code",
   "execution_count": 106,
   "id": "54b2df5e",
   "metadata": {},
   "outputs": [
    {
     "data": {
      "text/plain": [
       "array([110, 500,   2,   3,   4,   5,   6,   7,   8,   9,  10,  11,  12,\n",
       "        13,  14,  15,  16,  17,  18,  19,  20,  21,  22,  23,  24,  25,\n",
       "        26,  27,  28,  29,  30,  31,  32,  33,  34,  35,  36,  37,  38,\n",
       "        39,  40,  41,  42,  43,  44,  45,  46,  47,  48,  49,  50,  51,\n",
       "        52,  53,  54,  55,  56,  57,  58,  59,  60,  61,  62,  63,  64,\n",
       "        65,  66,  67,  68,  69,  70,  71,  72,  73,  74,  75,  76,  77,\n",
       "        78,  79,  80,  81,  82,  83,  84,  85,  86,  87,  88,  89,  90,\n",
       "        91,  92,  93,  94,  95,  96,  97,  98,  99])"
      ]
     },
     "execution_count": 106,
     "metadata": {},
     "output_type": "execute_result"
    }
   ],
   "source": [
    "a"
   ]
  },
  {
   "cell_type": "markdown",
   "id": "ee1a4f0d",
   "metadata": {},
   "source": [
    "# np.delete\n",
    "\n",
    "- it returns a new array with the deletion of sub arrays along with the mentioned axis."
   ]
  },
  {
   "cell_type": "markdown",
   "id": "35fe2ce5",
   "metadata": {},
   "source": [
    "https://numpy.org/doc/stable/reference/generated/numpy.delete.html"
   ]
  },
  {
   "cell_type": "markdown",
   "id": "ffa926f3",
   "metadata": {},
   "source": [
    "### numpy.delete(arr, obj, axis=None)\n",
    "Return a new array with sub-arrays along an axis deleted. For a one dimensional array, this returns those entries not returned by arr[obj]."
   ]
  },
  {
   "cell_type": "code",
   "execution_count": 107,
   "id": "1178373b",
   "metadata": {},
   "outputs": [
    {
     "data": {
      "text/plain": [
       "array([110, 500,   2,   3,   4,   5,   6,   7,   8,   9,  10,  11,  12,\n",
       "        13,  14,  15,  16,  17,  18,  19,  20,  21,  22,  23,  24,  25,\n",
       "        26,  27,  28,  29,  30,  31,  32,  33,  34,  35,  36,  37,  38,\n",
       "        39,  40,  41,  42,  43,  44,  45,  46,  47,  48,  49,  50,  51,\n",
       "        52,  53,  54,  55,  56,  57,  58,  59,  60,  61,  62,  63,  64,\n",
       "        65,  66,  67,  68,  69,  70,  71,  72,  73,  74,  75,  76,  77,\n",
       "        78,  79,  80,  81,  82,  83,  84,  85,  86,  87,  88,  89,  90,\n",
       "        91,  92,  93,  94,  95,  96,  97,  98,  99])"
      ]
     },
     "execution_count": 107,
     "metadata": {},
     "output_type": "execute_result"
    }
   ],
   "source": [
    "a"
   ]
  },
  {
   "cell_type": "code",
   "execution_count": 113,
   "id": "b0310b05",
   "metadata": {},
   "outputs": [
    {
     "data": {
      "text/plain": [
       "array([500,   2,   3,   4,   5,   6,   7,   8,   9,  10,  11,  12,  13,\n",
       "        14,  15,  16,  17,  18,  19,  20,  21,  22,  23,  24,  25,  26,\n",
       "        27,  28,  29,  30,  31,  32,  33,  34,  35,  36,  37,  38,  39,\n",
       "        40,  41,  42,  43,  44,  45,  46,  47,  48,  49,  50,  51,  52,\n",
       "        53,  54,  55,  56,  57,  58,  59,  60,  61,  62,  63,  64,  65,\n",
       "        66,  67,  68,  69,  70,  71,  72,  73,  74,  75,  76,  77,  78,\n",
       "        79,  80,  81,  82,  83,  84,  85,  86,  87,  88,  89,  90,  91,\n",
       "        92,  93,  94,  95,  96,  97,  98,  99])"
      ]
     },
     "execution_count": 113,
     "metadata": {},
     "output_type": "execute_result"
    }
   ],
   "source": [
    "np.delete(a,0)"
   ]
  },
  {
   "cell_type": "code",
   "execution_count": 114,
   "id": "7a813805",
   "metadata": {},
   "outputs": [
    {
     "data": {
      "text/plain": [
       "array([500,   3,   5,   6,   7,   8,   9,  10,  11,  12,  13,  14,  15,\n",
       "        16,  17,  18,  19,  20,  21,  22,  23,  24,  25,  26,  27,  28,\n",
       "        29,  30,  31,  32,  33,  34,  35,  36,  37,  38,  39,  40,  41,\n",
       "        42,  43,  44,  45,  46,  47,  48,  49,  50,  51,  52,  53,  54,\n",
       "        55,  56,  57,  58,  59,  60,  61,  62,  63,  64,  65,  66,  67,\n",
       "        68,  69,  70,  71,  72,  73,  74,  75,  76,  77,  78,  79,  80,\n",
       "        81,  82,  83,  84,  85,  86,  87,  88,  89,  90,  91,  92,  93,\n",
       "        94,  95,  96,  97,  98,  99])"
      ]
     },
     "execution_count": 114,
     "metadata": {},
     "output_type": "execute_result"
    }
   ],
   "source": [
    "np.delete(a,[0,2,4])"
   ]
  },
  {
   "cell_type": "markdown",
   "id": "7326fcde",
   "metadata": {},
   "source": [
    "# SET FUNCTIONS\n",
    "\n",
    "- np.union1d\n",
    "- np.intersect1d\n",
    "- np.setdiff1d\n",
    "- np.setxor1d\n",
    "- np.in1d"
   ]
  },
  {
   "cell_type": "code",
   "execution_count": 115,
   "id": "b03cd44f",
   "metadata": {},
   "outputs": [],
   "source": [
    "m = np.array([1,2,3,4,5])\n",
    "n = np.array([3,4,5,6,7])"
   ]
  },
  {
   "cell_type": "code",
   "execution_count": 116,
   "id": "c3bf0b0d",
   "metadata": {},
   "outputs": [
    {
     "data": {
      "text/plain": [
       "array([1, 2, 3, 4, 5, 6, 7])"
      ]
     },
     "execution_count": 116,
     "metadata": {},
     "output_type": "execute_result"
    }
   ],
   "source": [
    "np.union1d(m,n)"
   ]
  },
  {
   "cell_type": "code",
   "execution_count": 118,
   "id": "e03f95c2",
   "metadata": {},
   "outputs": [
    {
     "data": {
      "text/plain": [
       "array([3, 4, 5])"
      ]
     },
     "execution_count": 118,
     "metadata": {},
     "output_type": "execute_result"
    }
   ],
   "source": [
    "np.intersect1d(m,n)"
   ]
  },
  {
   "cell_type": "code",
   "execution_count": 119,
   "id": "78d93ad1",
   "metadata": {},
   "outputs": [
    {
     "data": {
      "text/plain": [
       "array([1, 2])"
      ]
     },
     "execution_count": 119,
     "metadata": {},
     "output_type": "execute_result"
    }
   ],
   "source": [
    "np.setdiff1d(m,n)"
   ]
  },
  {
   "cell_type": "code",
   "execution_count": 120,
   "id": "3673fcf5",
   "metadata": {},
   "outputs": [
    {
     "data": {
      "text/plain": [
       "array([6, 7])"
      ]
     },
     "execution_count": 120,
     "metadata": {},
     "output_type": "execute_result"
    }
   ],
   "source": [
    "np.setdiff1d(n,m)"
   ]
  },
  {
   "cell_type": "code",
   "execution_count": 121,
   "id": "dcf74af6",
   "metadata": {},
   "outputs": [
    {
     "data": {
      "text/plain": [
       "array([1, 2, 6, 7])"
      ]
     },
     "execution_count": 121,
     "metadata": {},
     "output_type": "execute_result"
    }
   ],
   "source": [
    "np.setxor1d(m,n)"
   ]
  },
  {
   "cell_type": "code",
   "execution_count": 122,
   "id": "0103321a",
   "metadata": {},
   "outputs": [
    {
     "data": {
      "text/plain": [
       "array([1, 2, 6, 7])"
      ]
     },
     "execution_count": 122,
     "metadata": {},
     "output_type": "execute_result"
    }
   ],
   "source": [
    "np.setxor1d(n,m)"
   ]
  },
  {
   "cell_type": "code",
   "execution_count": 124,
   "id": "b4600eda",
   "metadata": {},
   "outputs": [
    {
     "data": {
      "text/plain": [
       "array([ True, False, False, False, False])"
      ]
     },
     "execution_count": 124,
     "metadata": {},
     "output_type": "execute_result"
    }
   ],
   "source": [
    "np.in1d(m,1)"
   ]
  },
  {
   "cell_type": "markdown",
   "id": "1e96d914",
   "metadata": {},
   "source": [
    "# np.clip\n",
    "- numpy.clip()function is used to clip(limit)the values in an array.\n",
    "- it used some time in ML and mostly in DEEP LEARNING."
   ]
  },
  {
   "cell_type": "code",
   "execution_count": 125,
   "id": "2b13cd96",
   "metadata": {},
   "outputs": [
    {
     "data": {
      "text/plain": [
       "array([110, 500,   2,   3,   4,   5,   6,   7,   8,   9,  10,  11,  12,\n",
       "        13,  14,  15,  16,  17,  18,  19,  20,  21,  22,  23,  24,  25,\n",
       "        26,  27,  28,  29,  30,  31,  32,  33,  34,  35,  36,  37,  38,\n",
       "        39,  40,  41,  42,  43,  44,  45,  46,  47,  48,  49,  50,  51,\n",
       "        52,  53,  54,  55,  56,  57,  58,  59,  60,  61,  62,  63,  64,\n",
       "        65,  66,  67,  68,  69,  70,  71,  72,  73,  74,  75,  76,  77,\n",
       "        78,  79,  80,  81,  82,  83,  84,  85,  86,  87,  88,  89,  90,\n",
       "        91,  92,  93,  94,  95,  96,  97,  98,  99])"
      ]
     },
     "execution_count": 125,
     "metadata": {},
     "output_type": "execute_result"
    }
   ],
   "source": [
    "a"
   ]
  },
  {
   "cell_type": "code",
   "execution_count": 126,
   "id": "4457e314",
   "metadata": {},
   "outputs": [
    {
     "data": {
      "text/plain": [
       "array([75, 75, 25, 25, 25, 25, 25, 25, 25, 25, 25, 25, 25, 25, 25, 25, 25,\n",
       "       25, 25, 25, 25, 25, 25, 25, 25, 25, 26, 27, 28, 29, 30, 31, 32, 33,\n",
       "       34, 35, 36, 37, 38, 39, 40, 41, 42, 43, 44, 45, 46, 47, 48, 49, 50,\n",
       "       51, 52, 53, 54, 55, 56, 57, 58, 59, 60, 61, 62, 63, 64, 65, 66, 67,\n",
       "       68, 69, 70, 71, 72, 73, 74, 75, 75, 75, 75, 75, 75, 75, 75, 75, 75,\n",
       "       75, 75, 75, 75, 75, 75, 75, 75, 75, 75, 75, 75, 75, 75, 75])"
      ]
     },
     "execution_count": 126,
     "metadata": {},
     "output_type": "execute_result"
    }
   ],
   "source": [
    "np.clip(a,a_min = 25, a_max = 75)"
   ]
  },
  {
   "cell_type": "code",
   "execution_count": null,
   "id": "f2c22184",
   "metadata": {},
   "outputs": [],
   "source": []
  },
  {
   "cell_type": "code",
   "execution_count": 127,
   "id": "2c6a12aa",
   "metadata": {},
   "outputs": [
    {
     "data": {
      "text/plain": [
       "array([  2,   3,   4,   5,   6,   7,   8,   9,  10,  11,  12,  13,  14,\n",
       "        15,  16,  17,  18,  19,  20,  21,  22,  23,  24,  25,  26,  27,\n",
       "        28,  29,  30,  31,  32,  33,  34,  35,  36,  37,  38,  39,  40,\n",
       "        41,  42,  43,  44,  45,  46,  47,  48,  49,  50,  51,  52,  53,\n",
       "        54,  55,  56,  57,  58,  59,  60,  61,  62,  63,  64,  65,  66,\n",
       "        67,  68,  69,  70,  71,  72,  73,  74,  75,  76,  77,  78,  79,\n",
       "        80,  81,  82,  83,  84,  85,  86,  87,  88,  89,  90,  91,  92,\n",
       "        93,  94,  95,  96,  97,  98,  99, 110, 500])"
      ]
     },
     "execution_count": 127,
     "metadata": {},
     "output_type": "execute_result"
    }
   ],
   "source": [
    "np.unique(a)"
   ]
  },
  {
   "cell_type": "markdown",
   "id": "a8692ac3",
   "metadata": {},
   "source": [
    "# Numpy Meshgrid\n",
    "\n",
    "- NumPy's meshgrid function is used to create a grid of points in two or three dimensions. It takes as input two or three 1D arrays representing the coordinates in each dimension, and returns the coordinates of all the points in the grid as two or three 2D arrays.\n",
    "\n",
    "- Here is an example of how to use meshgrid in two dimensions:"
   ]
  },
  {
   "cell_type": "code",
   "execution_count": 130,
   "id": "91e2d567",
   "metadata": {},
   "outputs": [
    {
     "name": "stdout",
     "output_type": "stream",
     "text": [
      "[[-1  0  1]\n",
      " [-1  0  1]\n",
      " [-1  0  1]]\n",
      "[[-2 -2 -2]\n",
      " [ 0  0  0]\n",
      " [ 2  2  2]]\n"
     ]
    }
   ],
   "source": [
    "import numpy as np\n",
    "\n",
    "# Define the x and y coordinates\n",
    "x = np.array([-1, 0, 1])\n",
    "y = np.array([-2, 0, 2])\n",
    "\n",
    "# Create the grid\n",
    "X, Y = np.meshgrid(x, y)\n",
    "\n",
    "print(X)\n",
    "# Output: [[-1  0  1]\n",
    "#          [-1  0  1]\n",
    "#          [-1  0  1]]\n",
    "\n",
    "print(Y)\n",
    "# Output: [[-2 -2 -2]\n",
    "#          [ 0  0  0]\n",
    "#          [ 2  2  2]]\n"
   ]
  },
  {
   "cell_type": "markdown",
   "id": "64b36a4d",
   "metadata": {},
   "source": [
    "- In this example, X is a 2D array where the rows are the values of y, and Y is a 2D array where the columns are the values of x.\n",
    "\n",
    "- You can also use meshgrid in three dimensions by passing it three 1D arrays:"
   ]
  },
  {
   "cell_type": "code",
   "execution_count": 131,
   "id": "750b79a6",
   "metadata": {},
   "outputs": [],
   "source": [
    "import numpy as np\n",
    "\n",
    "# Define the x, y, and z coordinates\n",
    "x = np.array([-1, 0, 1])\n",
    "y = np.array([-2, 0, 2])\n",
    "z = np.array([-3, 0, 3])\n",
    "\n",
    "# Create the grid\n",
    "X, Y, Z = np.meshgrid(x, y, z)\n",
    "\n"
   ]
  },
  {
   "cell_type": "code",
   "execution_count": 132,
   "id": "7664503a",
   "metadata": {},
   "outputs": [
    {
     "data": {
      "text/plain": [
       "array([[[-1, -1, -1],\n",
       "        [ 0,  0,  0],\n",
       "        [ 1,  1,  1]],\n",
       "\n",
       "       [[-1, -1, -1],\n",
       "        [ 0,  0,  0],\n",
       "        [ 1,  1,  1]],\n",
       "\n",
       "       [[-1, -1, -1],\n",
       "        [ 0,  0,  0],\n",
       "        [ 1,  1,  1]]])"
      ]
     },
     "execution_count": 132,
     "metadata": {},
     "output_type": "execute_result"
    }
   ],
   "source": [
    "X"
   ]
  },
  {
   "cell_type": "code",
   "execution_count": 133,
   "id": "25a9fc76",
   "metadata": {},
   "outputs": [
    {
     "data": {
      "text/plain": [
       "array([[[-2, -2, -2],\n",
       "        [-2, -2, -2],\n",
       "        [-2, -2, -2]],\n",
       "\n",
       "       [[ 0,  0,  0],\n",
       "        [ 0,  0,  0],\n",
       "        [ 0,  0,  0]],\n",
       "\n",
       "       [[ 2,  2,  2],\n",
       "        [ 2,  2,  2],\n",
       "        [ 2,  2,  2]]])"
      ]
     },
     "execution_count": 133,
     "metadata": {},
     "output_type": "execute_result"
    }
   ],
   "source": [
    "Y"
   ]
  },
  {
   "cell_type": "code",
   "execution_count": 134,
   "id": "486b7735",
   "metadata": {},
   "outputs": [
    {
     "data": {
      "text/plain": [
       "array([[[-3,  0,  3],\n",
       "        [-3,  0,  3],\n",
       "        [-3,  0,  3]],\n",
       "\n",
       "       [[-3,  0,  3],\n",
       "        [-3,  0,  3],\n",
       "        [-3,  0,  3]],\n",
       "\n",
       "       [[-3,  0,  3],\n",
       "        [-3,  0,  3],\n",
       "        [-3,  0,  3]]])"
      ]
     },
     "execution_count": 134,
     "metadata": {},
     "output_type": "execute_result"
    }
   ],
   "source": [
    "Z"
   ]
  },
  {
   "cell_type": "markdown",
   "id": "099e3ad3",
   "metadata": {},
   "source": [
    "- The resulting arrays X, Y, and Z are 3D arrays where the rows and columns are the values of y and z, and the third dimension is the values of x."
   ]
  },
  {
   "cell_type": "markdown",
   "id": "c5cf3c06",
   "metadata": {},
   "source": [
    "# Structured Numpy Array"
   ]
  },
  {
   "cell_type": "markdown",
   "id": "2e9c390e",
   "metadata": {},
   "source": [
    "- A structured NumPy array is an array that has a datatype with named fields. It is similar to a structured data type in C, and allows you to define an array that has a fixed number of elements, each with a fixed set of fields.\n",
    "\n",
    "- Here is an example of how to create a structured array in NumPy:"
   ]
  },
  {
   "cell_type": "code",
   "execution_count": 135,
   "id": "b2111143",
   "metadata": {},
   "outputs": [
    {
     "name": "stdout",
     "output_type": "stream",
     "text": [
      "[('Alice', 1.5, 50.) ('Bob', 1.6, 60.)]\n"
     ]
    }
   ],
   "source": [
    "import numpy as np\n",
    "\n",
    "# Define the fields of the structured array\n",
    "dtype = [('name', 'U10'), ('height', 'f4'), ('weight', 'f4')]\n",
    "\n",
    "# Create the structured array\n",
    "data = np.array([('Alice', 1.5, 50.), ('Bob', 1.6, 60.)], dtype=dtype)\n",
    "\n",
    "print(data)\n",
    "# Output:\n",
    "# [('Alice', 1.5, 50.) ('Bob', 1.6, 60.)]\n"
   ]
  },
  {
   "cell_type": "markdown",
   "id": "cc5fbcd1",
   "metadata": {},
   "source": [
    "- In this example, we have created an array with two elements, each with three fields: 'name', 'height', and 'weight'. The 'U10' and 'f4' datatypes specify that the 'name' field is a Unicode string with a maximum length of 10 characters, and the 'height' and 'weight' fields are single-precision floating-point numbers.\n",
    "\n",
    "- You can access the fields of a structured array using the dot notation:\n",
    "\n"
   ]
  },
  {
   "cell_type": "code",
   "execution_count": 136,
   "id": "1ad0494d",
   "metadata": {},
   "outputs": [
    {
     "name": "stdout",
     "output_type": "stream",
     "text": [
      "Alice\n",
      "1.6\n"
     ]
    }
   ],
   "source": [
    "# Access the first element of the 'name' field\n",
    "print(data['name'][0])  # Output: 'Alice'\n",
    "\n",
    "# Access the second element of the 'height' field\n",
    "print(data['height'][1])  # Output: 1.6\n"
   ]
  },
  {
   "cell_type": "code",
   "execution_count": null,
   "id": "4ac87dab",
   "metadata": {},
   "outputs": [],
   "source": []
  }
 ],
 "metadata": {
  "kernelspec": {
   "display_name": "Python 3",
   "language": "python",
   "name": "python3"
  },
  "language_info": {
   "codemirror_mode": {
    "name": "ipython",
    "version": 3
   },
   "file_extension": ".py",
   "mimetype": "text/x-python",
   "name": "python",
   "nbconvert_exporter": "python",
   "pygments_lexer": "ipython3",
   "version": "3.8.8"
  }
 },
 "nbformat": 4,
 "nbformat_minor": 5
}
